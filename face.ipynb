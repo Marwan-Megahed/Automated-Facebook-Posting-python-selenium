{
 "cells": [
  {
   "cell_type": "code",
   "execution_count": null,
   "id": "58be15f1",
   "metadata": {},
   "outputs": [],
   "source": [
    "from selenium import webdriver\n",
    "from selenium.webdriver.common.by import By\n",
    "from selenium.webdriver.common.keys import Keys\n",
    "from selenium.webdriver.support.ui import WebDriverWait\n",
    "from selenium.webdriver.support import expected_conditions as EC\n",
    "from selenium.webdriver.firefox.service import Service\n",
    "import time\n",
    "\n",
    "\n",
    "geckodriver_path = 'geckodriver.exe' \n",
    "\n",
    "\n",
    "service = Service(executable_path=geckodriver_path)\n",
    "\n",
    "driver = webdriver.Firefox(service=service)\n",
    "\n",
    "driver.get(\"https://www.facebook.com/\")\n",
    "\n"
   ]
  },
  {
   "cell_type": "code",
   "execution_count": null,
   "id": "b69a89d9",
   "metadata": {},
   "outputs": [],
   "source": [
    "mail=driver.find_element(By.ID,'email')\n",
    "passw=driver.find_element(By.ID,'pass')\n",
    "time.sleep(3)\n",
    "mail.send_keys(\"enter email\")\n",
    "time.sleep(5)\n",
    "passw.send_keys('enter password')\n",
    "time.sleep(2)\n",
    "passw.send_keys(Keys.RETURN)\n",
    "time.sleep(10)"
   ]
  },
  {
   "cell_type": "code",
   "execution_count": 76,
   "id": "8bcb5d8c",
   "metadata": {},
   "outputs": [],
   "source": [
    "create_post= WebDriverWait(driver,10).until(\n",
    "        EC.element_to_be_clickable((By.XPATH,'//span[contains(text(),\"What\\'s on\")]')))\n",
    "\n",
    "create_post.click()"
   ]
  },
  {
   "cell_type": "code",
   "execution_count": null,
   "id": "3d69cd77",
   "metadata": {},
   "outputs": [],
   "source": [
    "post_input = WebDriverWait(driver, 10).until(\n",
    "    EC.presence_of_element_located((By.XPATH, '//div[@role=\"textbox\"]')))\n",
    "\n",
    "\n",
    "text = \"enter what you want to be posted\"\n",
    "for char in text:\n",
    "    post_input.send_keys(char)\n",
    "    time.sleep(0.05)"
   ]
  },
  {
   "cell_type": "code",
   "execution_count": 78,
   "id": "f53d5460",
   "metadata": {},
   "outputs": [],
   "source": [
    "post=WebDriverWait(driver,10).until(\n",
    "\n",
    "    EC.element_to_be_clickable((By.XPATH,'//div[@role=\"button\" and contains(@aria-label,\"Post\")]'))\n",
    ")\n",
    "\n",
    "post.click()"
   ]
  }
 ],
 "metadata": {
  "kernelspec": {
   "display_name": "base",
   "language": "python",
   "name": "python3"
  },
  "language_info": {
   "codemirror_mode": {
    "name": "ipython",
    "version": 3
   },
   "file_extension": ".py",
   "mimetype": "text/x-python",
   "name": "python",
   "nbconvert_exporter": "python",
   "pygments_lexer": "ipython3",
   "version": "3.12.7"
  }
 },
 "nbformat": 4,
 "nbformat_minor": 5
}
